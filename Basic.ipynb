{
 "cells": [
  {
   "attachments": {},
   "cell_type": "markdown",
   "metadata": {},
   "source": [
    "*Comments*"
   ]
  },
  {
   "cell_type": "code",
   "execution_count": null,
   "metadata": {},
   "outputs": [],
   "source": [
    "#This is the function to indentify the value of a variable \n",
    "\n",
    "\"\"\" This is Int\n",
    "converted in float\n",
    "this will perform as calculation \"\"\"\n",
    "\n",
    "#HosKey=Verifywith"
   ]
  },
  {
   "attachments": {},
   "cell_type": "markdown",
   "metadata": {},
   "source": [
    "VARIABLE\n",
    "# Variables\n",
    "1. Starts with Alphabets or underscore ( a-z, A-Z, _ )\n",
    "2. Then Can be a combination of Alphabets, Underscore & Number\n",
    "3. Cannot be Keywords"
   ]
  },
  {
   "attachments": {},
   "cell_type": "markdown",
   "metadata": {},
   "source": [
    "RULES:\n",
    "- Starts with Alphabets or underscore ( a-z, A-Z, _ )​\n",
    "- Then Can be a combination of Alphabets, Underscore & Number​\n",
    "- Cannot be Keywords​"
   ]
  },
  {
   "cell_type": "code",
   "execution_count": null,
   "metadata": {},
   "outputs": [],
   "source": [
    "a123_123 = 10\n",
    "_c_123 = 20.2\n",
    "false = 70\n",
    "true = 123\n",
    "Finally = 456\n",
    "_____ = 678\n",
    "__qw = 12\n",
    "print (a123_123)\n"
   ]
  },
  {
   "attachments": {},
   "cell_type": "markdown",
   "metadata": {},
   "source": [
    "Invalid Value\n",
    "\n",
    "aset% = 12   #Any special char apart from __ is invalid\n",
    "123 = 20     #only numbers not valid\n",
    "while = 12   #keywords not valid\n"
   ]
  },
  {
   "attachments": {},
   "cell_type": "markdown",
   "metadata": {},
   "source": [
    "DATA TYPES\n",
    "- Integer – 1, 1244, -1234​\n",
    "- Float – 1.0, 1e10, 123.324​\n",
    "- complex – 1+0j (j represents that its complex)​\n",
    "- string – “Hello world”, “a”, ‘a’​\n",
    "- boolean – True, False"
   ]
  },
  {
   "attachments": {},
   "cell_type": "markdown",
   "metadata": {},
   "source": [
    "# **print()** - Python Standard Function\n",
    "\n",
    "**Hint:** *If a word is ending with () call it as a function*\n"
   ]
  },
  {
   "attachments": {},
   "cell_type": "markdown",
   "metadata": {},
   "source": [
    "# Escape sequences​\n",
    "\n",
    "- \\ - for newline in editor​\n",
    "- \\\\\\ - prints \\​\n",
    "- \\’ – prints ‘​\n",
    "- \\” – prints “​\n",
    "- \\n – prints a new line​\n",
    "- \\t – prints a tab​"
   ]
  },
  {
   "cell_type": "code",
   "execution_count": null,
   "metadata": {},
   "outputs": [],
   "source": [
    "a = \"I\\'am Hello world \\\"Alphabet\\\"\"\n",
    "print(a)\n",
    "b = \"new\\nMoon\"\n",
    "print(b)\n",
    "c = \"new\\tMoon\"\n",
    "print(c)\n",
    "d = \"m\\\\n\"\n",
    "print(d)"
   ]
  },
  {
   "attachments": {},
   "cell_type": "markdown",
   "metadata": {},
   "source": [
    "END ()\n",
    "each value will be dafult end with \"\\n\" if you wish to change it end='\\\\' \n",
    "SEP ()\n",
    "each value will be default seprated with \" \" if you wish to change it sep='-'"
   ]
  },
  {
   "cell_type": "code",
   "execution_count": 57,
   "metadata": {},
   "outputs": [
    {
     "name": "stdout",
     "output_type": "stream",
     "text": [
      "1,2,3,4,5,6\tm,n,o,p,q,r\n"
     ]
    }
   ],
   "source": [
    "print (1,2,3,4,5,6,sep=',',end='\\t')\n",
    "print ('m,n,o,p,q,r')"
   ]
  }
 ],
 "metadata": {
  "kernelspec": {
   "display_name": "base",
   "language": "python",
   "name": "python3"
  },
  "language_info": {
   "codemirror_mode": {
    "name": "ipython",
    "version": 3
   },
   "file_extension": ".py",
   "mimetype": "text/x-python",
   "name": "python",
   "nbconvert_exporter": "python",
   "pygments_lexer": "ipython3",
   "version": "3.10.9"
  },
  "orig_nbformat": 4
 },
 "nbformat": 4,
 "nbformat_minor": 2
}
